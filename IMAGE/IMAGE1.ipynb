{
  "cells": [
    {
      "cell_type": "markdown",
      "source": [
        "### S. Zhao, Y. Gao, X. Jiang, H. Yao, T.-S. Chua, and X. Sun, “Exploring principles-of-art features for image emotion recognition,” in Proceedings of the 22nd ACM international conference on Multimedia, 2014, pp. 4756."
      ],
      "metadata": {
        "id": "Kl9wytnv_Dka"
      }
    },
    {
      "cell_type": "code",
      "execution_count": null,
      "metadata": {
        "id": "2WKbfojC2Fed"
      },
      "outputs": [],
      "source": [
        "import tensorflow as tf\n",
        "\n",
        "import os\n",
        "import re\n",
        "import seaborn as sns\n",
        "import numpy as np\n",
        "import pandas as pd\n",
        "import math\n",
        "from numpy import expand_dims\n",
        "from numpy import ones\n",
        "from numpy import zeros\n",
        "from numpy.random import rand\n",
        "from numpy.random import randint\n",
        "from matplotlib import pyplot as plt\n",
        "\n",
        "from sklearn import metrics\n",
        "from sklearn.model_selection import train_test_split\n",
        "\n",
        "import tensorflow as tf\n",
        "import tensorflow.keras.layers as L\n",
        "import tensorflow_addons as tfa\n",
        "from sklearn.model_selection import StratifiedKFold\n",
        "from tqdm import tqdm\n",
        "\n",
        "#import efficientnet.tfkeras as efn\n",
        "\n",
        "from kaggle_datasets import KaggleDatasets\n",
        "from tensorflow.keras import backend as K\n",
        "import tensorflow_addons as tfa\n",
        "from numpy.random import randn"
      ]
    },
    {
      "cell_type": "code",
      "execution_count": null,
      "metadata": {
        "colab": {
          "base_uri": "https://localhost:8080/"
        },
        "id": "b4Jsunuaxjt7",
        "outputId": "95093dcc-7a9c-4426-f0fe-0ef22fb220de"
      },
      "outputs": [
        {
          "name": "stdout",
          "output_type": "stream",
          "text": [
            "Drive already mounted at /content/drive; to attempt to forcibly remount, call drive.mount(\"/content/drive\", force_remount=True).\n"
          ]
        }
      ],
      "source": [
        "from google.colab import drive\n",
        "drive.mount('/content/drive')\n"
      ]
    },
    {
      "cell_type": "code",
      "execution_count": null,
      "metadata": {
        "id": "Un5ZtY5BxoJF"
      },
      "outputs": [],
      "source": [
        "train = '/content/drive/My Drive/PROJECT/Image Data/train'\n",
        "test = '/content/drive/My Drive/PROJECT/Image Data/test'"
      ]
    },
    {
      "cell_type": "code",
      "execution_count": null,
      "metadata": {
        "id": "coWM8P-6x8wa"
      },
      "outputs": [],
      "source": [
        "train_datagen = ImageDataGenerator(\n",
        "    width_shift_range = 0.1,        # Randomly shift the width of images by up to 10%\n",
        "    height_shift_range = 0.1,       # Randomly shift the height of images by up to 10%\n",
        "    horizontal_flip = True,         # Flip images horizontally at random\n",
        "    rescale = 1./255,               # Rescale pixel values to be between 0 and 1\n",
        "    validation_split = 0.2          # Set aside 20% of the data for validation\n",
        ")\n",
        "\n",
        "validation_datagen = ImageDataGenerator(\n",
        "    rescale = 1./255,               # Rescale pixel values to be between 0 and 1\n",
        "    validation_split = 0.2          # Set aside 20% of the data for validation\n",
        ")"
      ]
    },
    {
      "cell_type": "code",
      "execution_count": null,
      "metadata": {
        "colab": {
          "base_uri": "https://localhost:8080/"
        },
        "id": "mJdhYrEBx_Xs",
        "outputId": "03781889-c108-4ac0-fc06-63ddf64ca8b7"
      },
      "outputs": [
        {
          "name": "stdout",
          "output_type": "stream",
          "text": [
            "Found 22968 images belonging to 7 classes.\n",
            "Found 1432 images belonging to 7 classes.\n"
          ]
        }
      ],
      "source": [
        "train_generator = train_datagen.flow_from_directory(\n",
        "    directory = train,           # Directory containing the training data\n",
        "    target_size = (48, 48),          # Resizes all images to 48x48 pixels\n",
        "    batch_size = 64,                 # Number of images per batch\n",
        "    color_mode = \"grayscale\",        # Converts the images to grayscale\n",
        "    class_mode = \"categorical\",      # Classifies the images into 7 categories\n",
        "    subset = \"training\"              # Uses the training subset of the data\n",
        ")\n",
        "\n",
        "validation_generator = validation_datagen.flow_from_directory(\n",
        "    directory = test,            # Directory containing the validation data\n",
        "    target_size = (48, 48),          # Resizes all images to 48x48 pixels\n",
        "    batch_size = 64,                 # Number of images per batch\n",
        "    color_mode = \"grayscale\",        # Converts the images to grayscale\n",
        "    class_mode = \"categorical\",      # Classifies the images into 7 categories\n",
        "    subset = \"validation\"            # Uses the validation subset of the data\n",
        ")"
      ]
    },
    {
      "cell_type": "code",
      "source": [
        "def define_vgg16_discriminator(in_shape=(img_size,img_size,3)):\n",
        "    # Relu modified to LeakyRelu\n",
        "    # as described in paper works better for GAN discriminator\n",
        "    # using VGG16 as backbone for this\n",
        "    with strategy.scope():\n",
        "        model = tf.keras.Sequential()\n",
        "        tflayer = tf.keras.layers\n",
        "\n",
        "        model.add(tflayer.Conv2D(input_shape=in_shape,filters=64,kernel_size=(3,3),padding=\"same\", activation=tflayer.LeakyReLU(0.2)))\n",
        "        model.add(tflayer.Conv2D(filters=64,kernel_size=(3,3),padding=\"same\", activation=tflayer.LeakyReLU(0.2)))\n",
        "        model.add(tflayer.MaxPool2D(pool_size=(2,2),strides=(2,2)))\n",
        "\n",
        "        model.add(tflayer.Conv2D(filters=128, kernel_size=(3,3), padding=\"same\", activation=tflayer.LeakyReLU(0.2)))\n",
        "        model.add(tflayer.Conv2D(filters=128, kernel_size=(3,3), padding=\"same\", activation=tflayer.LeakyReLU(0.2)))\n",
        "        model.add(tflayer.MaxPool2D(pool_size=(2,2),strides=(2,2)))\n",
        "\n",
        "        model.add(tflayer.Conv2D(filters=256, kernel_size=(3,3), padding=\"same\", activation=tflayer.LeakyReLU(0.2)))\n",
        "        model.add(tflayer.Conv2D(filters=256, kernel_size=(3,3), padding=\"same\", activation=tflayer.LeakyReLU(0.2)))\n",
        "        model.add(tflayer.Conv2D(filters=256, kernel_size=(3,3), padding=\"same\", activation=tflayer.LeakyReLU(0.2)))\n",
        "        model.add(tflayer.MaxPool2D(pool_size=(2,2),strides=(2,2)))\n",
        "\n",
        "        model.add(tflayer.Conv2D(filters=512, kernel_size=(3,3), padding=\"same\", activation=tflayer.LeakyReLU(0.2)))\n",
        "        model.add(tflayer.Conv2D(filters=512, kernel_size=(3,3), padding=\"same\", activation=tflayer.LeakyReLU(0.2)))\n",
        "        model.add(tflayer.Conv2D(filters=512, kernel_size=(3,3), padding=\"same\", activation=tflayer.LeakyReLU(0.2)))\n",
        "        model.add(tflayer.MaxPool2D(pool_size=(2,2),strides=(2,2)))\n",
        "\n",
        "        model.add(tflayer.Conv2D(filters=512, kernel_size=(3,3), padding=\"same\", activation=tflayer.LeakyReLU(0.2)))\n",
        "        model.add(tflayer.Conv2D(filters=512, kernel_size=(3,3), padding=\"same\", activation=tflayer.LeakyReLU(0.2)))\n",
        "        model.add(tflayer.Conv2D(filters=512, kernel_size=(3,3), padding=\"same\", activation=tflayer.LeakyReLU(0.2)))\n",
        "        model.add(tflayer.MaxPool2D(pool_size=(2,2),strides=(2,2)))\n",
        "\n",
        "        #This is extra layer-----\n",
        "        #model.add(tflayer.Conv2D(filters=512, kernel_size=(3,3), padding=\"same\", activation=tflayer.LeakyReLU(0.2)))\n",
        "        #model.add(tflayer.MaxPool2D(pool_size=(2,2),strides=(2,2)))\n",
        "        # ------------------------\n",
        "\n",
        "        model.add(tflayer.Flatten())\n",
        "\n",
        "        model.add(tflayer.Dense(4096, activation=tflayer.LeakyReLU(0.2)))\n",
        "        model.add(tflayer.Dense(1, activation='sigmoid'))\n",
        "        # compile model\n",
        "        opt = tf.keras.optimizers.Adam(lr=0.0002, beta_1=0.5)\n",
        "        model.compile(loss='binary_crossentropy', optimizer=opt, metrics=['accuracy'])\n",
        "\n",
        "        return model\n",
        "    #model.add(tflayer.Dense(units=4096,activation=\"relu\"))"
      ],
      "metadata": {
        "id": "A6b78Z5q_c-M"
      },
      "execution_count": null,
      "outputs": []
    },
    {
      "cell_type": "code",
      "source": [
        "model = define_vgg16_discriminator((img_size,img_size,3))\n",
        "model.summary()"
      ],
      "metadata": {
        "colab": {
          "base_uri": "https://localhost:8080/"
        },
        "id": "RRGKC4I5AHvW",
        "outputId": "1a16bef4-2ba9-4c79-be5b-1bb3008d9bc9"
      },
      "execution_count": 1,
      "outputs": [
        {
          "output_type": "stream",
          "name": "stdout",
          "text": [
            "\n",
            "Model: \"sequential\"\n",
            "_________________________________________________________________\n",
            "Layer (type)                 Output Shape              Param #   \n",
            "=================================================================\n",
            "conv2d (Conv2D)              (None, 192, 192, 64)      1792      \n",
            "_________________________________________________________________\n",
            "conv2d_1 (Conv2D)            (None, 192, 192, 64)      36928     \n",
            "_________________________________________________________________\n",
            "max_pooling2d (MaxPooling2D) (None, 96, 96, 64)        0         \n",
            "_________________________________________________________________\n",
            "conv2d_2 (Conv2D)            (None, 96, 96, 128)       73856     \n",
            "_________________________________________________________________\n",
            "conv2d_3 (Conv2D)            (None, 96, 96, 128)       147584    \n",
            "_________________________________________________________________\n",
            "max_pooling2d_1 (MaxPooling2 (None, 48, 48, 128)       0         \n",
            "_________________________________________________________________\n",
            "conv2d_4 (Conv2D)            (None, 48, 48, 256)       295168    \n",
            "_________________________________________________________________\n",
            "conv2d_5 (Conv2D)            (None, 48, 48, 256)       590080    \n",
            "_________________________________________________________________\n",
            "conv2d_6 (Conv2D)            (None, 48, 48, 256)       590080    \n",
            "_________________________________________________________________\n",
            "max_pooling2d_2 (MaxPooling2 (None, 24, 24, 256)       0         \n",
            "_________________________________________________________________\n",
            "conv2d_7 (Conv2D)            (None, 24, 24, 512)       1180160   \n",
            "_________________________________________________________________\n",
            "conv2d_8 (Conv2D)            (None, 24, 24, 512)       2359808   \n",
            "_________________________________________________________________\n",
            "conv2d_9 (Conv2D)            (None, 24, 24, 512)       2359808   \n",
            "_________________________________________________________________\n",
            "max_pooling2d_3 (MaxPooling2 (None, 12, 12, 512)       0         \n",
            "_________________________________________________________________\n",
            "conv2d_10 (Conv2D)           (None, 12, 12, 512)       2359808   \n",
            "_________________________________________________________________\n",
            "conv2d_11 (Conv2D)           (None, 12, 12, 512)       2359808   \n",
            "_________________________________________________________________\n",
            "conv2d_12 (Conv2D)           (None, 12, 12, 512)       2359808   \n",
            "_________________________________________________________________\n",
            "max_pooling2d_4 (MaxPooling2 (None, 6, 6, 512)         0         \n",
            "_________________________________________________________________\n",
            "flatten (Flatten)            (None, 18432)             0         \n",
            "_________________________________________________________________\n",
            "dense (Dense)                (None, 4096)              75501568  \n",
            "_________________________________________________________________\n",
            "dense_1 (Dense)              (None, 1)                 4097      \n",
            "=================================================================\n",
            "Total params: 90,220,353\n",
            "Trainable params: 90,220,353\n",
            "Non-trainable params: 0\n",
            "_________________________________________________________________\n",
            "\n"
          ]
        }
      ]
    },
    {
      "cell_type": "code",
      "source": [
        "# fit the model\n",
        "# Run the cell. It will take some time to execute\n",
        "r = model.fit_generator(\n",
        "  training_set,\n",
        "  validation_data=test_set,\n",
        "  epochs=20,\n",
        "  steps_per_epoch=len(training_set),\n",
        "  validation_steps=len(test_set)\n",
        ")"
      ],
      "metadata": {
        "colab": {
          "base_uri": "https://localhost:8080/"
        },
        "id": "SToJxB2fASOv",
        "outputId": "32488a0b-528e-412a-e054-7583aaa057df"
      },
      "execution_count": 2,
      "outputs": [
        {
          "output_type": "stream",
          "name": "stdout",
          "text": [
            "\n",
            "/opt/conda/lib/python3.7/site-packages/keras/engine/training.py:1972: UserWarning: `Model.fit_generator` is deprecated and will be removed in a future version. Please use `Model.fit`, which supports generators.\n",
            "  warnings.warn('`Model.fit_generator` is deprecated and '\n",
            "2022-04-14 06:28:41.632917: I tensorflow/compiler/mlir/mlir_graph_optimization_pass.cc:185] None of the MLIR Optimization Passes are enabled (registered 2)\n",
            "Epoch 1/20\n",
            "61/61 [==============================] - 186s 3s/step - loss: 2.3215 - accuracy: 0.4567 - val_loss: 1.3474 - val_accuracy: 0.4722\n",
            "Epoch 2/20\n",
            "61/61 [==============================] - 181s 3s/step - loss: 0.9892 - accuracy: 0.6033 - val_loss: 0.9240 - val_accuracy: 0.6173\n",
            "Epoch 3/20\n",
            "61/61 [==============================] - 180s 3s/step - loss: 0.9204 - accuracy: 0.6371 - val_loss: 1.2322 - val_accuracy: 0.6759\n",
            "Epoch 4/20\n",
            "61/61 [==============================] - 179s 3s/step - loss: 0.9090 - accuracy: 0.6433 - val_loss: 0.7130 - val_accuracy: 0.7130\n",
            "Epoch 5/20\n",
            "61/61 [==============================] - 179s 3s/step - loss: 0.9237 - accuracy: 0.6453 - val_loss: 1.4438 - val_accuracy: 0.6914\n",
            "Epoch 6/20\n",
            "61/61 [==============================] - 179s 3s/step - loss: 0.9235 - accuracy: 0.6310 - val_loss: 1.5345 - val_accuracy: 0.5864\n",
            "Epoch 7/20\n",
            "61/61 [==============================] - 179s 3s/step - loss: 0.9550 - accuracy: 0.6484 - val_loss: 0.8599 - val_accuracy: 0.6543\n",
            "Epoch 8/20\n",
            "61/61 [==============================] - 180s 3s/step - loss: 0.8213 - accuracy: 0.6832 - val_loss: 0.8262 - val_accuracy: 0.7068\n",
            "Epoch 9/20\n",
            "61/61 [==============================] - 180s 3s/step - loss: 0.8688 - accuracy: 0.6720 - val_loss: 1.2683 - val_accuracy: 0.6667\n",
            "Epoch 10/20\n",
            "61/61 [==============================] - 179s 3s/step - loss: 0.7212 - accuracy: 0.7104 - val_loss: 0.7989 - val_accuracy: 0.6914\n",
            "Epoch 11/20\n",
            "61/61 [==============================] - 178s 3s/step - loss: 0.7409 - accuracy: 0.7140 - val_loss: 1.7615 - val_accuracy: 0.5741\n",
            "Epoch 12/20\n",
            "61/61 [==============================] - 180s 3s/step - loss: 0.8982 - accuracy: 0.6838 - val_loss: 0.6188 - val_accuracy: 0.7685\n",
            "Epoch 13/20\n",
            "61/61 [==============================] - 180s 3s/step - loss: 0.6869 - accuracy: 0.7273 - val_loss: 0.7529 - val_accuracy: 0.7068\n",
            "Epoch 14/20\n",
            "61/61 [==============================] - 180s 3s/step - loss: 0.8070 - accuracy: 0.7002 - val_loss: 0.6497 - val_accuracy: 0.7593\n",
            "Epoch 15/20\n",
            "61/61 [==============================] - 180s 3s/step - loss: 0.9272 - accuracy: 0.6843 - val_loss: 0.8829 - val_accuracy: 0.7037\n",
            "Epoch 16/20\n",
            "61/61 [==============================] - 180s 3s/step - loss: 0.7225 - accuracy: 0.7330 - val_loss: 0.6536 - val_accuracy: 0.7809\n",
            "Epoch 17/20\n",
            "61/61 [==============================] - 179s 3s/step - loss: 0.5822 - accuracy: 0.7740 - val_loss: 0.6918 - val_accuracy: 0.7222\n",
            "Epoch 18/20\n",
            "61/61 [==============================] - 180s 3s/step - loss: 0.6855 - accuracy: 0.7999 - val_loss: 0.6682 - val_accuracy: 0.7377\n",
            "Epoch 19/20\n",
            "61/61 [==============================] - 179s 3s/step - loss: 0.8002 - accuracy: 0.8212 - val_loss: 0.6632 - val_accuracy: 0.7593\n",
            "Epoch 20/20\n",
            "61/61 [==============================] - 179s 3s/step - loss: 0.6224 - accuracy: 0.8537 - val_loss: 0.5812 - val_accuracy: 0.7994\n",
            "\n"
          ]
        }
      ]
    },
    {
      "cell_type": "code",
      "source": [],
      "metadata": {
        "id": "x_gk3tv2BNeU"
      },
      "execution_count": null,
      "outputs": []
    },
    {
      "cell_type": "code",
      "source": [],
      "metadata": {
        "id": "f3G2IlVWBNay"
      },
      "execution_count": null,
      "outputs": []
    },
    {
      "cell_type": "code",
      "source": [],
      "metadata": {
        "id": "YajOmZdRBNY0"
      },
      "execution_count": null,
      "outputs": []
    },
    {
      "cell_type": "code",
      "source": [],
      "metadata": {
        "id": "KDSCLcH5BNXD"
      },
      "execution_count": null,
      "outputs": []
    },
    {
      "cell_type": "code",
      "source": [],
      "metadata": {
        "id": "5TscQGTKBNVo"
      },
      "execution_count": null,
      "outputs": []
    }
  ],
  "metadata": {
    "colab": {
      "provenance": []
    },
    "kernelspec": {
      "display_name": "Python 3",
      "name": "python3"
    },
    "language_info": {
      "name": "python"
    }
  },
  "nbformat": 4,
  "nbformat_minor": 0
}