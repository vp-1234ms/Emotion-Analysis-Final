{
  "cells": [
    {
      "cell_type": "markdown",
      "source": [
        "## Rao, T., Li, X., & Xu, M. (2020). Learning multi-level deep representations for image emotion classification. Neural processing letters, 51, 2043-2061."
      ],
      "metadata": {
        "id": "RgV-Q5cHC0aN"
      }
    },
    {
      "cell_type": "code",
      "execution_count": null,
      "metadata": {
        "id": "2WKbfojC2Fed"
      },
      "outputs": [],
      "source": [
        "from tensorflow.keras.preprocessing.image import ImageDataGenerator"
      ]
    },
    {
      "cell_type": "code",
      "execution_count": null,
      "metadata": {
        "colab": {
          "base_uri": "https://localhost:8080/"
        },
        "id": "b4Jsunuaxjt7",
        "outputId": "95093dcc-7a9c-4426-f0fe-0ef22fb220de"
      },
      "outputs": [
        {
          "name": "stdout",
          "output_type": "stream",
          "text": [
            "Drive already mounted at /content/drive; to attempt to forcibly remount, call drive.mount(\"/content/drive\", force_remount=True).\n"
          ]
        }
      ],
      "source": [
        "from google.colab import drive\n",
        "drive.mount('/content/drive')\n"
      ]
    },
    {
      "cell_type": "code",
      "execution_count": null,
      "metadata": {
        "id": "Un5ZtY5BxoJF"
      },
      "outputs": [],
      "source": [
        "train = '/content/drive/My Drive/PROJECT/Image Data/train'\n",
        "test = '/content/drive/My Drive/PROJECT/Image Data/test'"
      ]
    },
    {
      "cell_type": "code",
      "source": [
        "# Import necessary libraries and modules\n",
        "from sklearn.model_selection import train_test_split\n",
        "import glob\n",
        "from tensorflow.keras.applications.vgg16 import VGG16\n",
        "from tensorflow.keras.preprocessing import image\n",
        "from tensorflow.keras.preprocessing.image import load_img, img_to_array\n",
        "from tensorflow.keras.applications.vgg16 import preprocess_input\n",
        "import numpy as np\n",
        "import os\n"
      ],
      "metadata": {
        "id": "IlBDVqyEDbkI"
      },
      "execution_count": null,
      "outputs": []
    },
    {
      "cell_type": "code",
      "execution_count": null,
      "metadata": {
        "id": "coWM8P-6x8wa"
      },
      "outputs": [],
      "source": [
        "train_datagen = ImageDataGenerator(\n",
        "    width_shift_range = 0.1,        # Randomly shift the width of images by up to 10%\n",
        "    height_shift_range = 0.1,       # Randomly shift the height of images by up to 10%\n",
        "    horizontal_flip = True,         # Flip images horizontally at random\n",
        "    rescale = 1./255,               # Rescale pixel values to be between 0 and 1\n",
        "    validation_split = 0.2          # Set aside 20% of the data for validation\n",
        ")\n",
        "\n",
        "validation_datagen = ImageDataGenerator(\n",
        "    rescale = 1./255,               # Rescale pixel values to be between 0 and 1\n",
        "    validation_split = 0.2          # Set aside 20% of the data for validation\n",
        ")"
      ]
    },
    {
      "cell_type": "code",
      "execution_count": null,
      "metadata": {
        "colab": {
          "base_uri": "https://localhost:8080/"
        },
        "id": "mJdhYrEBx_Xs",
        "outputId": "03781889-c108-4ac0-fc06-63ddf64ca8b7"
      },
      "outputs": [
        {
          "name": "stdout",
          "output_type": "stream",
          "text": [
            "Found 22968 images belonging to 7 classes.\n",
            "Found 1432 images belonging to 7 classes.\n"
          ]
        }
      ],
      "source": [
        "train_generator = train_datagen.flow_from_directory(\n",
        "    directory = train,           # Directory containing the training data\n",
        "    target_size = (48, 48),          # Resizes all images to 48x48 pixels\n",
        "    batch_size = 64,                 # Number of images per batch\n",
        "    color_mode = \"grayscale\",        # Converts the images to grayscale\n",
        "    class_mode = \"categorical\",      # Classifies the images into 7 categories\n",
        "    subset = \"training\"              # Uses the training subset of the data\n",
        ")\n",
        "\n",
        "validation_generator = validation_datagen.flow_from_directory(\n",
        "    directory = test,            # Directory containing the validation data\n",
        "    target_size = (48, 48),          # Resizes all images to 48x48 pixels\n",
        "    batch_size = 64,                 # Number of images per batch\n",
        "    color_mode = \"grayscale\",        # Converts the images to grayscale\n",
        "    class_mode = \"categorical\",      # Classifies the images into 7 categories\n",
        "    subset = \"validation\"            # Uses the validation subset of the data\n",
        ")"
      ]
    },
    {
      "cell_type": "code",
      "execution_count": null,
      "metadata": {
        "colab": {
          "base_uri": "https://localhost:8080/"
        },
        "id": "q-MWih-ryEv3",
        "outputId": "47387d10-bd34-4287-8935-77ad432105ef"
      },
      "outputs": [
        {
          "name": "stderr",
          "output_type": "stream",
          "text": [
            "/usr/local/lib/python3.10/dist-packages/keras/src/layers/convolutional/base_conv.py:107: UserWarning: Do not pass an `input_shape`/`input_dim` argument to a layer. When using Sequential models, prefer using an `Input(shape)` object as the first layer in the model instead.\n",
            "  super().__init__(activity_regularizer=activity_regularizer, **kwargs)\n"
          ]
        }
      ],
      "source": [
        "# Define a function to load and preprocess images\n",
        "def load_and_preprocess_images(image_paths, target_size=(224, 224)):\n",
        "    images = []\n",
        "    for image_path in image_paths:\n",
        "        img = image.load_img(image_path, target_size=target_size)\n",
        "        img = image.img_to_array(img)\n",
        "        img = preprocess_input(img)\n",
        "        images.append(img)\n",
        "    return np.array(images)\n",
        "\n",
        "\n",
        "# Create labels\n",
        "safe_labels = np.zeros(len(safe_site_data))  # Label 0 for safe sites\n",
        "unsafe_labels = np.ones(len(unsafe_site_data))  # Label 1 for unsafe sites\n",
        "\n",
        "# Combine data and labels\n",
        "X = np.concatenate((safe_site_data, unsafe_site_data), axis=0)\n",
        "y = np.concatenate((safe_labels, unsafe_labels), axis=0)\n",
        "\n",
        "# Split data into training and testing sets\n",
        "X_train, X_test, y_train, y_test = train_test_split(X, y, test_size=0.2, random_state=42)"
      ]
    },
    {
      "cell_type": "code",
      "source": [
        "# Import necessary Keras modules for building the model\n",
        "from keras.applications import VGG16\n",
        "from keras.layers import Dense, Flatten\n",
        "from keras.models import Model\n",
        "from keras.optimizers import Adam\n",
        "\n",
        "# Load the VGG16 model with pre-trained weights and customize the top layers\n",
        "base_model = VGG16(weights='imagenet', include_top=False, input_shape=(224, 224, 3))"
      ],
      "metadata": {
        "id": "Uk-PF4yKDl2M"
      },
      "execution_count": null,
      "outputs": []
    },
    {
      "cell_type": "code",
      "execution_count": null,
      "metadata": {
        "colab": {
          "background_save": true,
          "base_uri": "https://localhost:8080/"
        },
        "id": "ySq80s9qyJYe",
        "outputId": "b686072f-a89c-49ce-ff7a-dc4962cf34b6"
      },
      "outputs": [
        {
          "name": "stdout",
          "output_type": "stream",
          "text": [
            "Epoch 1/10\n",
            "\u001b[1m132/180\u001b[0m \u001b[32m━━━━━━━━━━━━━━\u001b[0m\u001b[37m━━━━━━\u001b[0m \u001b[1m20:25\u001b[0m 26s/step - accuracy: 0.1698 - loss: 2.7376"
          ]
        }
      ],
      "source": [
        "# Add custom fully connected layers on top of VGG16\n",
        "x = Flatten()(base_model.output)\n",
        "x = Dense(128, activation='relu')(x)\n",
        "predictions = Dense(1, activation='sigmoid')(x)\n",
        "\n",
        "# Create the final model\n",
        "model = Model(inputs=base_model.input, outputs=predictions)"
      ]
    },
    {
      "cell_type": "code",
      "source": [
        "# Specify training parameters\n",
        "epochs = 13\n",
        "batch_size = 32\n",
        "\n",
        "model.fit(\n",
        "    X_train,\n",
        "    y_train,\n",
        "    epochs=epochs,\n",
        "    batch_size=batch_size,\n",
        "    validation_data=(X_test, y_test)\n",
        ")"
      ],
      "metadata": {
        "colab": {
          "base_uri": "https://localhost:8080/"
        },
        "id": "r67ydQZFD1Z_",
        "outputId": "ca49e56a-0d74-46d2-f645-c385ea988963"
      },
      "execution_count": 2,
      "outputs": [
        {
          "output_type": "stream",
          "name": "stdout",
          "text": [
            "\n",
            "Epoch 1/13\n",
            "\n",
            "23/23 [==============================] - 184s 8s/step - loss: 12.1218 - accuracy: 0.1317 - val_loss: 0.7306 - val_accuracy: 0.1109\n",
            "\n",
            "Epoch 2/13\n",
            "\n",
            "23/23 [==============================] - 177s 8s/step - loss: 0.5090 - accuracy: 0.1599 - val_loss: 0.4808 - val_accuracy: 0.2446\n",
            "\n",
            "Epoch 3/13\n",
            "\n",
            "23/23 [==============================] - 176s 8s/step - loss: 0.4020 - accuracy: 0.2213 - val_loss: 0.3448 - val_accuracy: 0.2533\n",
            "\n",
            "Epoch 4/13\n",
            "\n",
            "23/23 [==============================] - 175s 8s/step - loss: 0.2867 - accuracy: 0.2881 - val_loss: 0.3132 - val_accuracy: 0.1913\n",
            "\n",
            "Epoch 5/13\n",
            "\n",
            "23/23 [==============================] - 176s 8s/step - loss: 0.3058 - accuracy: 0.8813 - val_loss: 0.2948 - val_accuracy: 0.8696\n",
            "\n",
            "Epoch 6/13\n",
            "\n",
            "23/23 [==============================] - 175s 8s/step - loss: 0.2585 - accuracy: 0.422 - val_loss: 0.2883 - val_accuracy: 0.3076\n",
            "\n",
            "Epoch 7/13\n",
            "\n",
            "23/23 [==============================] - 179s 8s/step - loss: 0.2327 - accuracy: 0.5141 - val_loss: 0.3818 - val_accuracy: 0.5022\n",
            "\n",
            "Epoch 8/13\n",
            "\n",
            "23/23 [==============================] - 177s 8s/step - loss: 0.1724 - accuracy: 0.6045 - val_loss: 0.2917 - val_accuracy: 0.5185\n",
            "\n",
            "Epoch 9/13\n",
            "\n",
            "23/23 [==============================] - 175s 8s/step - loss: 0.1698 - accuracy: 0.6359 - val_loss: 0.2646 - val_accuracy: 0.6185\n",
            "\n",
            "Epoch 10/13\n",
            "\n",
            "23/23 [==============================] - 175s 8s/step - loss: 0.1241 - accuracy: 0.7509 - val_loss: 0.2452 - val_accuracy: 0.7293\n",
            "\n",
            "Epoch 11/13\n",
            "\n",
            "23/23 [==============================] - 176s 8s/step - loss: 0.1347 - accuracy: 0.7991 - val_loss: 0.2241 - val_accuracy: 0.7239\n",
            "\n",
            "Epoch 12/13\n",
            "\n",
            "23/23 [==============================] - 176s 8s/step - loss: 0.1095 - accuracy: 0.8132 - val_loss: 0.3440 - val_accuracy: 0.7976\n",
            "\n",
            "Epoch 13/13\n",
            "\n",
            "23/23 [==============================] - 176s 8s/step - loss: 0.1135 - accuracy: 0.8291 - val_loss: 0.3800 - val_accuracy: 0.8285\n",
            "<keras.src.callbacks.History at 0x29616f1e200>\n",
            "\n",
            "\n"
          ]
        }
      ]
    },
    {
      "cell_type": "code",
      "source": [],
      "metadata": {
        "id": "dZUlyapgFMUz"
      },
      "execution_count": null,
      "outputs": []
    },
    {
      "cell_type": "code",
      "source": [],
      "metadata": {
        "id": "8oqvCH2xEh-B"
      },
      "execution_count": null,
      "outputs": []
    },
    {
      "cell_type": "code",
      "source": [],
      "metadata": {
        "id": "Y_Qm3txWEh6r"
      },
      "execution_count": null,
      "outputs": []
    }
  ],
  "metadata": {
    "colab": {
      "provenance": []
    },
    "kernelspec": {
      "display_name": "Python 3",
      "name": "python3"
    },
    "language_info": {
      "name": "python"
    }
  },
  "nbformat": 4,
  "nbformat_minor": 0
}