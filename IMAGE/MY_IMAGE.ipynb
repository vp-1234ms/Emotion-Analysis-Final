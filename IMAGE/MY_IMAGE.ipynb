{
  "cells": [
    {
      "cell_type": "code",
      "execution_count": null,
      "metadata": {
        "id": "2WKbfojC2Fed"
      },
      "outputs": [],
      "source": [
        "from tensorflow.keras.preprocessing.image import ImageDataGenerator"
      ]
    },
    {
      "cell_type": "code",
      "execution_count": null,
      "metadata": {
        "colab": {
          "base_uri": "https://localhost:8080/"
        },
        "id": "b4Jsunuaxjt7",
        "outputId": "95093dcc-7a9c-4426-f0fe-0ef22fb220de"
      },
      "outputs": [
        {
          "name": "stdout",
          "output_type": "stream",
          "text": [
            "Drive already mounted at /content/drive; to attempt to forcibly remount, call drive.mount(\"/content/drive\", force_remount=True).\n"
          ]
        }
      ],
      "source": [
        "from google.colab import drive\n",
        "drive.mount('/content/drive')\n"
      ]
    },
    {
      "cell_type": "code",
      "execution_count": null,
      "metadata": {
        "id": "Un5ZtY5BxoJF"
      },
      "outputs": [],
      "source": [
        "train = '/content/drive/My Drive/PROJECT/Image Data/train'\n",
        "test = '/content/drive/My Drive/PROJECT/Image Data/test'"
      ]
    },
    {
      "cell_type": "code",
      "execution_count": null,
      "metadata": {
        "id": "coWM8P-6x8wa"
      },
      "outputs": [],
      "source": [
        "train_datagen = ImageDataGenerator(\n",
        "    width_shift_range = 0.1,        # Randomly shift the width of images by up to 10%\n",
        "    height_shift_range = 0.1,       # Randomly shift the height of images by up to 10%\n",
        "    horizontal_flip = True,         # Flip images horizontally at random\n",
        "    rescale = 1./255,               # Rescale pixel values to be between 0 and 1\n",
        "    validation_split = 0.2          # Set aside 20% of the data for validation\n",
        ")\n",
        "\n",
        "validation_datagen = ImageDataGenerator(\n",
        "    rescale = 1./255,               # Rescale pixel values to be between 0 and 1\n",
        "    validation_split = 0.2          # Set aside 20% of the data for validation\n",
        ")"
      ]
    },
    {
      "cell_type": "code",
      "execution_count": null,
      "metadata": {
        "colab": {
          "base_uri": "https://localhost:8080/"
        },
        "id": "mJdhYrEBx_Xs",
        "outputId": "03781889-c108-4ac0-fc06-63ddf64ca8b7"
      },
      "outputs": [
        {
          "name": "stdout",
          "output_type": "stream",
          "text": [
            "Found 22968 images belonging to 7 classes.\n",
            "Found 1432 images belonging to 7 classes.\n"
          ]
        }
      ],
      "source": [
        "train_generator = train_datagen.flow_from_directory(\n",
        "    directory = train,           # Directory containing the training data\n",
        "    target_size = (48, 48),          # Resizes all images to 48x48 pixels\n",
        "    batch_size = 64,                 # Number of images per batch\n",
        "    color_mode = \"grayscale\",        # Converts the images to grayscale\n",
        "    class_mode = \"categorical\",      # Classifies the images into 7 categories\n",
        "    subset = \"training\"              # Uses the training subset of the data\n",
        ")\n",
        "\n",
        "validation_generator = validation_datagen.flow_from_directory(\n",
        "    directory = test,            # Directory containing the validation data\n",
        "    target_size = (48, 48),          # Resizes all images to 48x48 pixels\n",
        "    batch_size = 64,                 # Number of images per batch\n",
        "    color_mode = \"grayscale\",        # Converts the images to grayscale\n",
        "    class_mode = \"categorical\",      # Classifies the images into 7 categories\n",
        "    subset = \"validation\"            # Uses the validation subset of the data\n",
        ")"
      ]
    },
    {
      "cell_type": "code",
      "execution_count": null,
      "metadata": {
        "colab": {
          "base_uri": "https://localhost:8080/"
        },
        "id": "q-MWih-ryEv3",
        "outputId": "47387d10-bd34-4287-8935-77ad432105ef"
      },
      "outputs": [
        {
          "name": "stderr",
          "output_type": "stream",
          "text": [
            "/usr/local/lib/python3.10/dist-packages/keras/src/layers/convolutional/base_conv.py:107: UserWarning: Do not pass an `input_shape`/`input_dim` argument to a layer. When using Sequential models, prefer using an `Input(shape)` object as the first layer in the model instead.\n",
            "  super().__init__(activity_regularizer=activity_regularizer, **kwargs)\n"
          ]
        }
      ],
      "source": [
        "from tensorflow.keras.layers import Dense, Dropout, Flatten, Conv2D, MaxPooling2D, BatchNormalization\n",
        "from tensorflow.keras.models import Sequential\n",
        "import tensorflow as tf\n",
        "\n",
        "# Define the model architecture\n",
        "model = Sequential()\n",
        "\n",
        "# Add a convolutional layer with 32 filters, 3x3 kernel size, and relu activation function\n",
        "model.add(Conv2D(32, kernel_size=(3, 3), activation='relu', input_shape=(48, 48, 1)))\n",
        "# Add a batch normalization layer\n",
        "model.add(BatchNormalization())\n",
        "# Add a second convolutional layer with 64 filters, 3x3 kernel size, and relu activation function\n",
        "model.add(Conv2D(64, kernel_size=(3, 3), activation='relu'))\n",
        "# Add a second batch normalization layer\n",
        "model.add(BatchNormalization())\n",
        "# Add a max pooling layer with 2x2 pool size\n",
        "model.add(MaxPooling2D(pool_size=(2, 2)))\n",
        "# Add a dropout layer with 0.25 dropout rate\n",
        "model.add(Dropout(0.25))\n",
        "\n",
        "# Add a third convolutional layer with 128 filters, 3x3 kernel size, and relu activation function\n",
        "model.add(Conv2D(128, kernel_size=(3, 3), activation='relu'))\n",
        "# Add a third batch normalization layer\n",
        "model.add(BatchNormalization())\n",
        "# Add a fourth convolutional layer with 128 filters, 3x3 kernel size, and relu activation function\n",
        "model.add(Conv2D(128, kernel_size=(3, 3), activation='relu'))\n",
        "# Add a fourth batch normalization layer\n",
        "model.add(BatchNormalization())\n",
        "# Add a max pooling layer with 2x2 pool size\n",
        "model.add(MaxPooling2D(pool_size=(2, 2)))\n",
        "# Add a dropout layer with 0.25 dropout rate\n",
        "model.add(Dropout(0.25))\n",
        "\n",
        "# Add a fifth convolutional layer with 256 filters, 3x3 kernel size, and relu activation function\n",
        "model.add(Conv2D(256, kernel_size=(3, 3), activation='relu'))\n",
        "# Add a fifth batch normalization layer\n",
        "model.add(BatchNormalization())\n",
        "# Add a sixth convolutional layer with 256 filters, 3x3 kernel size, and relu activation function\n",
        "model.add(Conv2D(256, kernel_size=(3, 3), activation='relu'))\n",
        "# Add a sixth batch normalization layer\n",
        "model.add(BatchNormalization())\n",
        "# Add a max pooling layer with 2x2 pool size\n",
        "model.add(MaxPooling2D(pool_size=(2, 2)))\n",
        "# Add a dropout layer with 0.25 dropout rate\n",
        "model.add(Dropout(0.25))\n",
        "\n",
        "# Flatten the output of the convolutional layers\n",
        "model.add(Flatten())\n",
        "# Add a dense layer with 256 neurons and relu activation function\n",
        "model.add(Dense(256, activation='relu'))\n",
        "# Add a seventh batch normalization layer\n",
        "model.add(BatchNormalization())\n",
        "# Add a dropout layer with 0.5 dropout rate\n",
        "model.add(Dropout(0.5))\n",
        "# Add a dense layer with 7 neurons (one for each class) and softmax activation function\n",
        "model.add(Dense(7, activation='softmax'))\n",
        "\n",
        "# Compile the model with categorical cross-entropy loss, adam optimizer, and accuracy metric\n",
        "model.compile(loss=\"categorical_crossentropy\", optimizer=tf.keras.optimizers.Adam(learning_rate=0.0001), metrics=['accuracy'])\n"
      ]
    },
    {
      "cell_type": "code",
      "execution_count": null,
      "metadata": {
        "colab": {
          "background_save": true,
          "base_uri": "https://localhost:8080/"
        },
        "id": "ySq80s9qyJYe",
        "outputId": "b686072f-a89c-49ce-ff7a-dc4962cf34b6"
      },
      "outputs": [
        {
          "name": "stdout",
          "output_type": "stream",
          "text": [
            "Epoch 1/10\n",
            "\u001b[1m132/180\u001b[0m \u001b[32m━━━━━━━━━━━━━━\u001b[0m\u001b[37m━━━━━━\u001b[0m \u001b[1m20:25\u001b[0m 26s/step - accuracy: 0.1698 - loss: 2.7376"
          ]
        }
      ],
      "source": [
        "from tensorflow.keras.callbacks import ModelCheckpoint\n",
        "\n",
        "# Define the callback\n",
        "checkpoint_callback = ModelCheckpoint(\n",
        "    filepath='model_weights.weights.h5',  # Update file extension to `.weights.h5`\n",
        "    monitor='val_accuracy',\n",
        "    save_best_only=True,\n",
        "    save_weights_only=True,\n",
        "    mode='max',\n",
        "    verbose=1\n",
        ")\n",
        "\n",
        "# Train the model with the callback\n",
        "history = model.fit(\n",
        "    train_generator,\n",
        "    steps_per_epoch=len(train_generator),\n",
        "    epochs=50,\n",
        "    validation_data=validation_generator,\n",
        "    validation_steps=len(validation_generator),\n",
        "    callbacks=[checkpoint_callback]\n",
        ")\n"
      ]
    },
    {
      "cell_type": "code",
      "source": [
        "train(num_epochs=15, train_loader=train_loader_fn, loss_fn=loss_fn_fine_tune, classifier=True, decoder=False, lrate=0.0001)"
      ],
      "metadata": {
        "colab": {
          "base_uri": "https://localhost:8080/"
        },
        "id": "QWJoOrDmFPMj",
        "outputId": "f564cf26-3ca8-42b3-e0b6-53fa4bb099dc"
      },
      "execution_count": 2,
      "outputs": [
        {
          "output_type": "stream",
          "name": "stdout",
          "text": [
            "Epoch 1/15 \n",
            "3125/3125 ━━━━━━━━━━━━━━━━━━━━ 118s 36ms/step - accuracy: 0.6109 - loss: 0.9941 - val_accuracy: 0.4958 - val_loss: 1.1877\n",
            "Epoch 2/15 \n",
            "3125/3125 ━━━━━━━━━━━━━━━━━━━━ 108s 34ms/step - accuracy: 0.6989 - loss: 0.7947 - val_accuracy: 0.5904 - val_loss: 0.9491\n",
            "Epoch 3/15 \n",
            "3125/3125 ━━━━━━━━━━━━━━━━━━━━ 112s 36ms/step - accuracy: 0.7099 - loss: 0.7655 - val_accuracy: 0.4295 - val_loss: 1.0838\n",
            "Epoch 4/15 \n",
            "3125/3125 ━━━━━━━━━━━━━━━━━━━━ 109s 35ms/step - accuracy: 0.7246 - loss: 0.7240 - val_accuracy: 0.1898 - val_loss: 1.4297\n",
            "Epoch 5/15 \n",
            "3125/3125 ━━━━━━━━━━━━━━━━━━━━ 144s 35ms/step - accuracy: 0.7327 - loss: 0.7059 - val_accuracy: 0.4868 - val_loss: 1.1048\n",
            "Epoch 6/15 \n",
            "3125/3125 ━━━━━━━━━━━━━━━━━━━━ 138s 34ms/step - accuracy: 0.7465 - loss: 0.6769 - val_accuracy: 0.1390 - val_loss: 1.5040\n",
            "Epoch 7/15 \n",
            "3125/3125 ━━━━━━━━━━━━━━━━━━━━ 106s 34ms/step - accuracy: 0.7571 - loss: 0.6451 - val_accuracy: 0.4272 - val_loss: 1.0873\n",
            "Epoch 8/15 \n",
            "3125/3125 ━━━━━━━━━━━━━━━━━━━━ 144s 35ms/step - accuracy: 0.7662 - loss: 0.6221 - val_accuracy: 0.8186 - val_loss: 0.9186\n",
            "Epoch 9/15 \n",
            "3125/3125 ━━━━━━━━━━━━━━━━━━━━ 145s 36ms/step - accuracy: 0.7814 - loss: 0.5897 - val_accuracy: 0.7908 - val_loss: 0.8993\n",
            "Epoch 10/15 \n",
            "3125/3125 ━━━━━━━━━━━━━━━━━━━━ 139s 35ms/step - accuracy: 0.7907 - loss: 0.5588 - val_accuracy: 0.7651 - val_loss: 3.5995\n",
            "Epoch 11/15 \n",
            "3125/3125 ━━━━━━━━━━━━━━━━━━━━ 143s 35ms/step - accuracy: 0.8033 - loss: 0.5291 - val_accuracy: 0.7309 - val_loss: 3.5950\n",
            "Epoch 12/15\n",
            "3125/3125 ━━━━━━━━━━━━━━━━━━━━ 140s 35ms/step - accuracy: 0.8145 - loss: 0.5035 - val_accuracy: 0.7141 - val_loss: 2.2544\n",
            "Epoch 13/15 \n",
            "3125/3125 ━━━━━━━━━━━━━━━━━━━━ 142s 34ms/step - accuracy: 0.8224 - loss: 0.4807 - val_accuracy: 0.7881 - val_loss: 2.7651\n",
            "Epoch 14/15\n",
            "3125/3125 ━━━━━━━━━━━━━━━━━━━━ 142s 34ms/step - accuracy: 0.8111 - loss: 0.4576 - val_accuracy: 0.7936 - val_loss: 2.2697\n",
            "Epoch 15/15\n",
            "3125/3125 ━━━━━━━━━━━━━━━━━━━━ 112s 36ms/step - accuracy: 0.8294 - loss: 0.4342 - val_accuracy: 0.8328 - val_loss: 3.5563\n",
            "\n"
          ]
        }
      ]
    },
    {
      "cell_type": "code",
      "execution_count": null,
      "metadata": {
        "colab": {
          "background_save": true
        },
        "id": "S0KZvprCyLkl"
      },
      "outputs": [],
      "source": [
        "# Plot the train and validation loss\n",
        "train_loss = history.history['loss']\n",
        "val_loss = history.history['val_loss']\n",
        "epochs = range(1, len(train_loss) + 1)\n",
        "plt.plot(epochs, train_loss, 'bo', label='Training loss')\n",
        "plt.plot(epochs, val_loss, 'b', label='Validation loss')\n",
        "plt.title('Training and validation loss')\n",
        "plt.xlabel('Epochs')\n",
        "plt.ylabel('Loss')\n",
        "plt.legend()\n",
        "plt.show()"
      ]
    },
    {
      "cell_type": "code",
      "execution_count": null,
      "metadata": {
        "colab": {
          "background_save": true
        },
        "id": "WpxNdT2MyUHF"
      },
      "outputs": [],
      "source": [
        "# Plot the train and validation accuracy\n",
        "train_acc = history.history['accuracy']\n",
        "val_acc = history.history['val_accuracy']\n",
        "plt.plot(epochs, train_acc, 'bo', label='Training accuracy')\n",
        "plt.plot(epochs, val_acc, 'b', label='Validation accuracy')\n",
        "plt.title('Training and validation accuracy')\n",
        "plt.xlabel('Epochs')\n",
        "plt.ylabel('Accuracy')\n",
        "plt.legend()\n",
        "plt.show()"
      ]
    },
    {
      "cell_type": "code",
      "execution_count": null,
      "metadata": {
        "colab": {
          "background_save": true
        },
        "id": "4ykm1yu8yUrI"
      },
      "outputs": [],
      "source": [
        "import seaborn as sns\n",
        "from sklearn.metrics import confusion_matrix\n",
        "\n",
        "# Get the true labels and predicted labels for the validation set\n",
        "validation_labels = validation_generator.classes\n",
        "validation_pred_probs = model.predict(validation_generator)\n",
        "validation_pred_labels = np.argmax(validation_pred_probs, axis=1)\n",
        "\n",
        "# Compute the confusion matrix\n",
        "confusion_mtx = confusion_matrix(validation_labels, validation_pred_labels)\n",
        "class_names = list(train_generator.class_indices.keys())\n",
        "sns.set()\n",
        "sns.heatmap(confusion_mtx, annot=True, fmt='d', cmap='YlGnBu',\n",
        "            xticklabels=class_names, yticklabels=class_names)\n",
        "plt.xlabel('Predicted Label')\n",
        "plt.ylabel('True Label')\n",
        "plt.title('Confusion Matrix')\n",
        "plt.show()"
      ]
    },
    {
      "cell_type": "code",
      "source": [],
      "metadata": {
        "id": "dZUlyapgFMUz"
      },
      "execution_count": null,
      "outputs": []
    }
  ],
  "metadata": {
    "colab": {
      "provenance": []
    },
    "kernelspec": {
      "display_name": "Python 3",
      "name": "python3"
    },
    "language_info": {
      "name": "python"
    }
  },
  "nbformat": 4,
  "nbformat_minor": 0
}